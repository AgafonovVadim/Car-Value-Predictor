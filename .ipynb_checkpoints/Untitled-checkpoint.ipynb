{
 "cells": [
  {
   "cell_type": "markdown",
   "id": "e1e41d8b-c564-43ba-9b32-cd0a79b63dad",
   "metadata": {},
   "source": [
    "***_Installing basic libraries_***"
   ]
  },
  {
   "cell_type": "code",
   "execution_count": 1,
   "id": "17fdec42-4221-4934-bf19-61d97c26215e",
   "metadata": {},
   "outputs": [
    {
     "name": "stdout",
     "output_type": "stream",
     "text": [
      "Requirement already satisfied: pandas in e:\\programfiles\\anaconda\\lib\\site-packages (2.2.3)\n",
      "Requirement already satisfied: numpy>=1.26.0 in e:\\programfiles\\anaconda\\lib\\site-packages (from pandas) (1.26.4)\n",
      "Requirement already satisfied: python-dateutil>=2.8.2 in e:\\programfiles\\anaconda\\lib\\site-packages (from pandas) (2.9.0.post0)\n",
      "Requirement already satisfied: pytz>=2020.1 in e:\\programfiles\\anaconda\\lib\\site-packages (from pandas) (2024.1)\n",
      "Requirement already satisfied: tzdata>=2022.7 in e:\\programfiles\\anaconda\\lib\\site-packages (from pandas) (2023.3)\n",
      "Requirement already satisfied: six>=1.5 in e:\\programfiles\\anaconda\\lib\\site-packages (from python-dateutil>=2.8.2->pandas) (1.16.0)\n",
      "Note: you may need to restart the kernel to use updated packages.\n"
     ]
    }
   ],
   "source": [
    "pip install -U pandas\n"
   ]
  },
  {
   "cell_type": "code",
   "execution_count": 2,
   "id": "be57273a-1712-40ad-8553-831386373410",
   "metadata": {},
   "outputs": [
    {
     "name": "stdout",
     "output_type": "stream",
     "text": [
      "Requirement already satisfied: lxml in e:\\programfiles\\anaconda\\lib\\site-packages (5.2.1)\n",
      "Note: you may need to restart the kernel to use updated packages.\n"
     ]
    }
   ],
   "source": [
    "pip install lxml"
   ]
  },
  {
   "cell_type": "markdown",
   "id": "a6cc2962-f88f-4ad8-bdf6-aaa08f60d665",
   "metadata": {},
   "source": [
    "**_Import part_**"
   ]
  },
  {
   "cell_type": "code",
   "execution_count": 136,
   "id": "ed713b68-96b4-4b2b-b7e7-9ab27ed906ca",
   "metadata": {},
   "outputs": [],
   "source": [
    "import lxml.html as lx\n",
    "import requests\n",
    "import numpy as np\n",
    "import configparser as cp\n",
    "import pandas as pd\n",
    "import multiprocessing\n",
    "from concurrent.futures import ThreadPoolExecutor, ProcessPoolExecutor, as_completed\n",
    "import threading\n",
    "import time\n",
    "import random\n",
    "from dataclasses import dataclass, asdict\n",
    "from datetime import datetime"
   ]
  },
  {
   "cell_type": "markdown",
   "id": "a4d4b522-e942-4049-b1ee-78d60c118853",
   "metadata": {},
   "source": [
    "**_Configuration file import_**"
   ]
  },
  {
   "cell_type": "code",
   "execution_count": 3,
   "id": "63fa2e00-1904-4932-a5bb-ee3f4e10448a",
   "metadata": {},
   "outputs": [
    {
     "data": {
      "text/plain": [
       "['./config.ini']"
      ]
     },
     "execution_count": 3,
     "metadata": {},
     "output_type": "execute_result"
    }
   ],
   "source": [
    "config = cp.ConfigParser() \n",
    "config.read(\"./config.ini\")  "
   ]
  },
  {
   "cell_type": "markdown",
   "id": "ab94db20-175b-44ca-90f2-a260ea7c5624",
   "metadata": {},
   "source": [
    "**_Global variables_**"
   ]
  },
  {
   "cell_type": "code",
   "execution_count": 4,
   "id": "055ee4c1-284f-43f4-a4ad-16729ce5ae09",
   "metadata": {},
   "outputs": [],
   "source": [
    "proxies_list = [\n",
    "    f\"http://41.159.154.43:3128\",\n",
    "    f\"http://38.10.90.246:8080\",\n",
    "    f\"http://103.196.28.6:8080\",\n",
    "    f\"http://103.230.49.132:8080\",\n",
    "    f\"http://138.121.142.154:8080\",\n",
    "    f\"http://101.33.252.195:8081\",\n",
    "    f\"http://79.174.188.153:8080\",\n",
    "    f\"http://103.181.168.218:8080\",\n",
    "    f\"http://200.94.102.148:999\",\n",
    "    f\"http://88.255.65.120:8080\",\n",
    "    f\"http://103.255.145.62:84\",\n",
    "    f\"http://217.197.237.74:8080\",\n",
    "    f\"http://197.232.47.122:8080\",\n",
    "    f\"http://102.67.101.250:8080\",\n",
    "    f\"http://103.122.32.10:8080\",\n",
    "    f\"http://212.252.66.209:8080\",\n",
    "    f\"http://103.167.171.43:8080\",\n",
    "    f\"http://103.177.21.9:8080\",\n",
    "    f\"http://185.191.236.162:3128\",\n",
    "    f\"http://103.90.156.220:8080\",\n",
    "    f\"http://110.74.221.48:8080\",\n",
    "    f\"http://45.230.49.2:999\",\n",
    "    f\"http://38.52.221.44:999\",\n",
    "    f\"http://103.122.66.140:1111\",\n",
    "    f\"http://202.154.18.133:8080\",\n",
    "    f\"http://222.70.81.82:9000\",\n",
    "    f\"http://103.132.52.24:8080\",\n",
    "    f\"http://185.103.26.78:3128\",\n",
    "    f\"http://81.12.40.250:8080\",\n",
    "    f\"http://152.169.106.145:8080\",\n",
    "    f\"http://45.173.12.141:1994\",\n",
    "    f\"http://120.28.204.19:80\",\n",
    "    f\"http://202.12.80.14:83\",\n",
    "    f\"http://103.165.211.174:3128\",\n",
    "    f\"http://137.59.50.39:8080\",\n",
    "    f\"http://103.6.223.2:3128\",\n",
    "    f\"http://115.74.246.138:8080\",\n",
    "    f\"http://190.52.165.120:8080\",\n",
    "    f\"http://103.42.120.43:8080\",\n",
    "    f\"http://94.131.107.45:3128\",\n",
    "    f\"http://191.102.254.9:8084\",\n",
    "    f\"http://183.91.80.194:8089\",\n",
    "    f\"http://109.201.14.82:8080\",\n",
    "    f\"http://194.117.230.230:3128\",\n",
    "    f\"http://103.156.140.239:8080\",\n",
    "    f\"http://179.108.220.184:8080\",\n",
    "    f\"http://201.77.108.48:999\",\n",
    "    f\"http://103.234.254.6:7777\",\n",
    "    f\"http://222.127.135.164:8082\",\n",
    "    f\"http://206.62.64.34:8080\",\n",
    "    f\"http://191.242.126.94:8080\",\n",
    "    f\"http://190.7.138.78:8080\",\n",
    "    f\"http://64.157.16.43:8080\",\n",
    "    f\"http://103.107.84.184:8080\",\n",
    "    f\"http://113.78.190.20:1111\",\n",
    "    f\"http://14.143.172.238:8080\",\n",
    "    f\"http://191.240.153.165:8080\"\n",
    "]\n"
   ]
  },
  {
   "cell_type": "markdown",
   "id": "858e7863-7eb5-4a80-b546-df084a19d9d5",
   "metadata": {},
   "source": [
    "**_Data frame creating_**"
   ]
  },
  {
   "cell_type": "code",
   "execution_count": 5,
   "id": "a7018100-5a39-4e04-aad6-cb50ea70b87d",
   "metadata": {},
   "outputs": [],
   "source": [
    "# Creating data base\n",
    "\n",
    "df = pd.DataFrame({\n",
    "    'full_name': [],\n",
    "    'status': [],\n",
    "    'geolocation': [],\n",
    "    'date': [],\n",
    "    'year': [],\n",
    "    'make': [],\n",
    "    'model_family': [],\n",
    "    'model_generation': [],\n",
    "    'model_variant': [],\n",
    "    'model_trim': [],\n",
    "    'engine': [],\n",
    "    'transmission': [],\n",
    "    'drive_type': [],\n",
    "    'originality': [],\n",
    "    'milleage': [],\n",
    "    'vin': [],\n",
    "    'vehicle_type': [],\n",
    "    'body_style': [],\n",
    "    'doors': [],\n",
    "    'driver_side': [],\n",
    "    'ext_color_group': [],\n",
    "    'int_color_group': [],\n",
    "    'for_sale': [],\n",
    "    'avg': [],\n",
    "    'sales_count': [],\n",
    "    'dollar_volume': [],\n",
    "    'lowest_sale': [],\n",
    "    'top_sale': [],\n",
    "    'most_recent': [],\n",
    "})"
   ]
  },
  {
   "cell_type": "markdown",
   "id": "6819914e-25db-44bf-b450-4c973d6403d9",
   "metadata": {},
   "source": [
    "**_Downloading page_**"
   ]
  },
  {
   "cell_type": "code",
   "execution_count": 6,
   "id": "a8400c40-33cc-4e3c-9837-2b9cca1aa6ff",
   "metadata": {},
   "outputs": [],
   "source": [
    "def download(url: str, page_num: int = 1):\n",
    "    file_path = f'data/pages/page_{page_num}.html' \n",
    "    \n",
    "    with open(file_path, 'wb') as downloaded_file:\n",
    "        downloaded_file.write(page.content)"
   ]
  },
  {
   "cell_type": "code",
   "execution_count": 7,
   "id": "2816acf0-4590-462c-b5ee-7001e28a8d49",
   "metadata": {},
   "outputs": [],
   "source": [
    "def explore(url: str, page_num: int = 1):\n",
    "    file_path = f'data/pages/page_{page_num}.html' \n",
    "    with open(file_path, 'r') as current_page:\n",
    "        return (current_page.read())"
   ]
  },
  {
   "cell_type": "code",
   "execution_count": 8,
   "id": "d3bd15be-7344-4bc7-b3b8-0f96ba3e4f87",
   "metadata": {},
   "outputs": [],
   "source": [
    "def explore_2(url: str):\n",
    "    try:\n",
    "        return [config[\"site\"][\"main_url\"] + href.attrib['href'] for href in lx.fromstring(requests.get(url).content).xpath(\"//a[@class='text-xl leading-5 font-medium table:text-secondary table:text-base flex-1']\")]\n",
    "    except Exception as e:\n",
    "        return explore_2(url)"
   ]
  },
  {
   "cell_type": "code",
   "execution_count": 9,
   "id": "0be59dc3-3a1a-4dd0-8e91-f189886930d4",
   "metadata": {},
   "outputs": [],
   "source": [
    "def explore_proxy(page_info):\n",
    "    url, proxy_num = page_info\n",
    "    explore_2(url, proxy_num)"
   ]
  },
  {
   "cell_type": "code",
   "execution_count": 116,
   "id": "56e4e575-e255-4d49-9838-fd132146c082",
   "metadata": {},
   "outputs": [],
   "source": [
    "def explore_all_pages(url: str):\n",
    "    pages_count = int(lx.fromstring(requests.get(url).content).xpath(\"//span[@class='font-medium']\")[-1].text) // int(config[\"site\"][\"page_auto_count\"])\n",
    "    all_vehs_href = []\n",
    "    lock = lock = threading.Lock()\n",
    "    pages = [url + f'?page={i}' for i in range(28000, pages_count)]\n",
    "    with ThreadPoolExecutor(multiprocessing.cpu_count()) as executor:\n",
    "        futures = [executor.submit(explore_2, page) for page in pages]\n",
    "        # Log progress\n",
    "        for i, future in enumerate(as_completed(futures), 1):\n",
    "            try:\n",
    "                result = future.result()\n",
    "                with lock:\n",
    "                    all_vehs_href.extend(result)\n",
    "                if i % 1000 == 0:\n",
    "                    print(f\"Downloaded {i} pages successfully\")\n",
    "            except Exception as e:\n",
    "                print(f\"Error downloading page: {e}\")\n",
    "        print(len(all_vehs_href))\n",
    "    return all_vehs_href"
   ]
  },
  {
   "cell_type": "code",
   "execution_count": 117,
   "id": "0c381d87-719a-4d0b-83ce-b27583eb3a46",
   "metadata": {},
   "outputs": [
    {
     "name": "stdout",
     "output_type": "stream",
     "text": [
      "Downloaded 1000 pages successfully\n",
      "26016\n"
     ]
    }
   ],
   "source": [
    "tmp_vehs_href = explore_all_pages(config[\"site\"][\"url\"])"
   ]
  },
  {
   "cell_type": "code",
   "execution_count": 118,
   "id": "ec89fb81-96b8-47c1-8f1b-c31f7bd798ce",
   "metadata": {
    "scrolled": true
   },
   "outputs": [],
   "source": [
    "all_vehs_href += tmp_vehs_href"
   ]
  },
  {
   "cell_type": "code",
   "execution_count": 119,
   "id": "e61ee74c-af2d-4be6-a2fe-17251ac1dfee",
   "metadata": {},
   "outputs": [
    {
     "name": "stdout",
     "output_type": "stream",
     "text": [
      "697896\n"
     ]
    }
   ],
   "source": [
    "print(len(all_vehs_href))"
   ]
  },
  {
   "cell_type": "code",
   "execution_count": 120,
   "id": "b4b2cd45-4b13-4b6b-99df-29a710412d73",
   "metadata": {},
   "outputs": [],
   "source": [
    "with open('first_part.txt', 'w') as downloaded_file:\n",
    "    s = ', \\n'.join(all_vehs_href)\n",
    "    downloaded_file.write(s)"
   ]
  },
  {
   "cell_type": "code",
   "execution_count": 115,
   "id": "456b39cc-4b02-492c-90b6-8b6385a49474",
   "metadata": {},
   "outputs": [
    {
     "data": {
      "text/plain": [
       "['https://www.classic.com/veh/1986-toyota-4runner-jt4rn62d2g0091570-nBw2oRW/',\n",
       " 'https://www.classic.com/veh/1984-toyota-land-cruiser-jt3fj60g4e1119893-4AjRozn/',\n",
       " 'https://www.classic.com/veh/1978-toyota-land-cruiser-fj40-fj40284559-nOlGBDW/',\n",
       " 'https://www.classic.com/veh/1996-land-rover-discovery-1-sd-saljy1247ta531450-pdEyKO4/',\n",
       " 'https://www.classic.com/veh/1952-mg-td-replica-ca1196540-nKya5dp/',\n",
       " 'https://www.classic.com/veh/1968-chevrolet-camaro-124378m403087-nBwBkNW/',\n",
       " 'https://www.classic.com/veh/1996-toyota-mr2-gt-s-sw200106261-pgDdJo4/',\n",
       " 'https://www.classic.com/veh/1980-toyota-land-cruiser-g43-s-fj43-by-the-fj-comp-4DygRgn/',\n",
       " 'https://www.classic.com/veh/1969-volkswagen-karmann-ghia-149951583-WLQ1ANp/',\n",
       " 'https://www.classic.com/veh/1956-jaguar-mark-vii-739391bw-pGVMgbW/',\n",
       " 'https://www.classic.com/veh/1974-mercedes-benz-450sl-1070441201814374-pz5km1W/',\n",
       " 'https://www.classic.com/veh/1967-jaguar-xke-series-15-1e13391-4Aj8zvn/',\n",
       " 'https://www.classic.com/veh/1998-bentley-azure-scbzk14c5wcx61516-nw5Q7Xp/',\n",
       " 'https://www.classic.com/veh/1969-mercury-cougar-9f91m550863-pdElgN4/',\n",
       " 'https://www.classic.com/veh/2021-mclaren-765lt-sbm14rca7mw765296-47jYmBp/',\n",
       " 'https://www.classic.com/veh/2022-lamborghini-huracan-sto-zhwua6zx1nla19996-pJKJog4/',\n",
       " 'https://www.classic.com/veh/1993-mazda-rx-7-touring-jm1fd3315p0210351-4M61mXn/',\n",
       " 'https://www.classic.com/veh/2000-mercedes-benz-sl-500-wdbfa68f5yf195121-4aMqDg4/',\n",
       " 'https://www.classic.com/veh/1967-jaguar-xke-series-15-1e34068-WNVBwEW/',\n",
       " 'https://www.classic.com/veh/1985-gmc-c1500-sierra-classic-1gtdc14h6ff715319-pew2G7n/',\n",
       " 'https://www.classic.com/veh/1948-jaguar-mark-iv-35l-drophead-coupe-617002-pEo0gjn/',\n",
       " 'https://www.classic.com/veh/1949-cadillac-fleetwood-60-special-496018889-47P08On/',\n",
       " 'https://www.classic.com/veh/1958-pontiac-bonneville-sport-coupe-c558h2127-pz6P3Ep/',\n",
       " 'https://www.classic.com/veh/1971-mg-mgb-roadster-ghn5ub236323g-nBOrqJW/']"
      ]
     },
     "execution_count": 115,
     "metadata": {},
     "output_type": "execute_result"
    }
   ],
   "source": [
    "explore_2('https://www.classic.com/search/?page=2')\n"
   ]
  },
  {
   "cell_type": "code",
   "execution_count": 122,
   "id": "c2d4e0f4-0435-45d9-912c-e52f86f37f6f",
   "metadata": {},
   "outputs": [],
   "source": [
    "@dataclass\n",
    "class Car:\n",
    "    full_name: str\n",
    "    status: str\n",
    "    geolocation: str\n",
    "    date: str\n",
    "    year: int\n",
    "    make: str\n",
    "    model_family: str\n",
    "    model_generation: str\n",
    "    model_variant: str\n",
    "    model_trim: str\n",
    "    engine: str\n",
    "    transmission: str\n",
    "    drive_type: str\n",
    "    originality: str\n",
    "    milleage: int\n",
    "    vin: str\n",
    "    vehicle_type: str\n",
    "    body_style: str\n",
    "    doors: int\n",
    "    driver_side: str\n",
    "    ext_color_group: str\n",
    "    int_color_group: str\n",
    "    for_sale: int\n",
    "    avg: int\n",
    "    sales_count: int\n",
    "    dollar_volume: int\n",
    "    lowest_sale: int\n",
    "    top_sale: int\n",
    "    most_recent: int\n"
   ]
  },
  {
   "cell_type": "code",
   "execution_count": 137,
   "id": "84f5ef66-23aa-4985-aa09-3dbb723ab697",
   "metadata": {},
   "outputs": [],
   "source": [
    "def get_car_date(tree):\n",
    "    try:\n",
    "        try:\n",
    "            date = tree.xpath('//div[@class=\"flex text-gray-500 pl-2 ml-auto \"]')[0].text[11:-9]\n",
    "        except Exception as e:\n",
    "            date = tree.xpath('//div[@class=\"flex text-gray-500 pl-2 ml-auto md:hidden\"]')[0].text[11:-9]\n",
    "    except Exception as e:\n",
    "        return datetime.today().strftime('%Y-%m-%d')\n",
    "    return datetime.strptime(date, \"%b %d, %Y\").strftime(\"%Y-%m-%d\")"
   ]
  },
  {
   "cell_type": "code",
   "execution_count": 138,
   "id": "900a15f4-4ed1-4173-92d4-f2140048cf26",
   "metadata": {},
   "outputs": [],
   "source": [
    "def get_car_status(tree):\n",
    "    try:\n",
    "        status = tree.xpath('//div[@class=\"border font-medium uppercase inline-block whitespace-nowrap text-white bg-black border-black px-2 text-lg rounded\"]')[0].text[3:-1]\n",
    "    except Exception as e:\n",
    "        try:\n",
    "            status = tree.xpath('//div[@class=\"border font-medium uppercase inline-block whitespace-nowrap text-green-600 border-green-600 px-2 text-lg rounded\"]')[0].text[3:-1]\n",
    "        except Exception as e:\n",
    "            try:\n",
    "                status = tree.xpath('//div[@class=\"border font-medium uppercase inline-block whitespace-nowrap text-red-600 border-red-600 px-2 text-lg rounded\"]')[0].text[3:-1]\n",
    "            except Exception as e:\n",
    "                status = tree.xpath('//div[@class=\"border font-medium uppercase inline-block whitespace-nowrap text-black bg-gray-200 px-2 text-lg rounded\"]')[0].text[3:-1]\n",
    "    return status"
   ]
  },
  {
   "cell_type": "code",
   "execution_count": 168,
   "id": "ce743d8a-0f01-43ab-a146-01d58a546dbf",
   "metadata": {},
   "outputs": [],
   "source": [
    "def get_car_specs(tree):\n",
    "    specs_divs = tree.xpath('//div[@class=\"font-medium\"]')\n",
    "    specs = [div.text_content().strip().replace(',', '.') for div in specs_divs]\n",
    "    if (len(specs)) > 18:\n",
    "        specs = specs[:(len(specs) // 2)]\n",
    "    if len(specs) != 18:\n",
    "        specs.insert(5, None)\n",
    "    for i in range(len(specs)):\n",
    "        if specs[i] == '-' or specs[i] == '' or specs[i] == 'N/A':\n",
    "            specs[i] = None\n",
    "        if specs[i] == \"TMU\":\n",
    "            specs[i] = None\n",
    "        if specs[i] is not None and specs[i].find('mi') != -1:\n",
    "            specs[i] = tree.xpath(\"//div[@class='flex gap-2 items-center text-black md:text-white']/div\")[1].text.replace(',', '.')\n",
    "            specs[i] = float(specs[i][specs[i].find('(') + 1:specs[i].find('mi') - 1])\n",
    "    return specs"
   ]
  },
  {
   "cell_type": "code",
   "execution_count": 169,
   "id": "4bbb2db4-d82e-4339-ac43-c1545f21435e",
   "metadata": {},
   "outputs": [],
   "source": [
    "def get_car_prices_specs(tree):\n",
    "    a_link = tree.xpath('//a[@class=\"typography-body1 flex items-center text-sm hover:bg-blue-100/30 p-2 rounded cursor-pointer transition duration-300 ease-in-out\"]')\n",
    "    prices = ['-'] * 7\n",
    "    if len(a_link) != 0:\n",
    "        prices_tree = lx.fromstring(requests.get(config[\"site\"][\"main_url\"] + a_link[0].attrib['href']).content)\n",
    "        prices_span = prices_tree.xpath('//span[@class=\"md:text-center font-medium md:font-light md:text-2xl\"]')\n",
    "        if len(prices_span) != 0:\n",
    "            prices = [span.text_content().strip().replace(',', '.') for span in prices_span]\n",
    "        else:\n",
    "            prices_span = prices_tree.xpath('//span[@class=\"text-2xl font-medium\"]')\n",
    "            prices_small = [span.text.strip().replace(',', '.') for span in prices_span]\n",
    "            prices[5] = prices_small[0]\n",
    "            prices[0] = prices_small[1]\n",
    "            prices[3] = prices_small[2]\n",
    "    \n",
    "    for i in range(len(prices)):\n",
    "        if prices[i][0] == '$':\n",
    "            prices[i] = prices[i][1:]\n",
    "        if prices[i][-1] == 'm':\n",
    "            prices[i] = int(float(prices[i][:-1]) * 1000000)\n",
    "        elif prices[i].find('.') != -1:\n",
    "            prices[i] = int(float(prices[i]) * 1000)\n",
    "        if prices[i] == '-' or prices[i] == '' or prices[i] == 'N/A':\n",
    "            prices[i] = None\n",
    "        else:\n",
    "            prices[i] = int(prices[i])\n",
    "    return prices"
   ]
  },
  {
   "cell_type": "code",
   "execution_count": 170,
   "id": "73f47bb0-dd01-4383-8e93-048a073d459b",
   "metadata": {},
   "outputs": [],
   "source": [
    "def parse_car_specs(url: str):\n",
    "    tree = lx.fromstring(requests.get(url).content)\n",
    "    specs = get_car_specs(tree)\n",
    "    prices = get_car_prices_specs(tree)\n",
    "    \n",
    "    return Car(\n",
    "        full_name = tree.xpath('//title/text()')[0][:tree.xpath('//title/text()')[0].find('VIN') - 1],\n",
    "        status = get_car_status(tree),\n",
    "        geolocation = tree.xpath(\"//div[@class='flex gap-2 items-center text-black md:text-white']/div\")[0].text,\n",
    "        date = get_car_date(tree),\n",
    "        year = int(specs[0]),\n",
    "        make = specs[1],\n",
    "        model_family = specs[2],\n",
    "        model_generation = specs[3],\n",
    "        model_variant = specs[4],\n",
    "        model_trim = specs[5],\n",
    "        engine = specs[6],\n",
    "        transmission = specs[7],\n",
    "        drive_type = specs[8],\n",
    "        originality = specs[9],\n",
    "        milleage = specs[10],\n",
    "        vin = specs[11],\n",
    "        vehicle_type = specs[12],\n",
    "        body_style = specs[13],\n",
    "        doors = specs[14],\n",
    "        driver_side = specs[15],\n",
    "        ext_color_group = specs[16],\n",
    "        int_color_group = specs[17],\n",
    "        for_sale = prices[0],\n",
    "        avg = prices[1],\n",
    "        sales_count = prices[2],\n",
    "        dollar_volume = prices[3],\n",
    "        lowest_sale = prices[4],\n",
    "        top_sale = prices[5],\n",
    "        most_recent = prices[6]\n",
    "    )\n"
   ]
  },
  {
   "cell_type": "code",
   "execution_count": 171,
   "id": "50799ca8-b93e-4976-bdd7-e34330728695",
   "metadata": {},
   "outputs": [
    {
     "data": {
      "text/plain": [
       "Car(full_name='2006 Subaru Impreza WRX STi', status='Not Sold', geolocation='Melbourne, VIC, AUS', date='2023-05-17', year=2006, make='Subaru', model_family='Impreza', model_generation='2nd Gen', model_variant='WRX STi', model_trim=None, engine=None, transmission='Manual', drive_type=None, originality='Original & Highly Original', milleage=3.566, vin='6ZZ60000GDB037755', vehicle_type='Automobile', body_style='Sedan', doors='4 Doors', driver_side='Right Hand Drive', ext_color_group='White', int_color_group='Black', for_sale=5, avg=26214, sales_count=210, dollar_volume=5500000, lowest_sale=6207, top_sale=77000, most_recent=23500)"
      ]
     },
     "execution_count": 171,
     "metadata": {},
     "output_type": "execute_result"
    }
   ],
   "source": [
    "#Check check specs\n",
    "url = 'https://www.classic.com/veh/1914-buick-b-24-11468-WN2MGAW/'\n",
    "url_1 = 'https://www.classic.com/veh/1928-indian-four-153-4AwvxbW/'\n",
    "url_2 = 'https://www.classic.com/veh/1984-bmw-733i-wbaff840xe9284528-Wvkg85p/'\n",
    "url_3 = 'https://www.classic.com/veh/1984-toyota-land-cruiser-jt3fj60g4e1119893-4AjRozn/'\n",
    "url_4 = 'https://www.classic.com/veh/2006-subaru-impreza-wrx-sti-6zz60000gdb037755-pPEo7R4/'\n",
    "\n",
    "parse_car_specs(url_4)"
   ]
  },
  {
   "cell_type": "code",
   "execution_count": 10,
   "id": "77a46c77-4609-4ecf-9ca0-a2977b8417ef",
   "metadata": {},
   "outputs": [],
   "source": [
    "def download_car(url: str, page_number: int = 0):\n",
    "    car = requests.get(url)\n",
    "    file_path = f'data/objects/car_{page_number}.html' \n",
    "    with open(file_path, 'wb') as downloaded_file:\n",
    "        downloaded_file.write(car.content)\n"
   ]
  },
  {
   "cell_type": "code",
   "execution_count": 12,
   "id": "6eab44b5-48fd-4926-a798-75b2a131d4f3",
   "metadata": {},
   "outputs": [],
   "source": [
    "download_car('https://www.classic.com/veh/1960-leyland-motors-fv4201-chieftain-tank-323-pEKb2zn/', 30)\n"
   ]
  },
  {
   "cell_type": "code",
   "execution_count": 67,
   "id": "d5c29402-90e7-4109-b882-fa8ddf6c5bc9",
   "metadata": {},
   "outputs": [
    {
     "data": {
      "text/plain": [
       "['1986 Toyota 4Runner',\n",
       " '1986',\n",
       " 'Toyota',\n",
       " '4Runner',\n",
       " '1st Gen (N60)',\n",
       " None,\n",
       " None,\n",
       " '2.4L I4 (22R-E)*',\n",
       " 'Manual',\n",
       " 'Four Wheel Drive (4WD/AWD)',\n",
       " 'Modified',\n",
       " '198,905',\n",
       " 'JT4RN62D6G0043568',\n",
       " 'Automobile',\n",
       " 'SUV',\n",
       " '2 Doors',\n",
       " 'Left Hand Drive',\n",
       " 'Red',\n",
       " 'Brown']"
      ]
     },
     "execution_count": 67,
     "metadata": {},
     "output_type": "execute_result"
    }
   ],
   "source": [
    "parse_car_specs(f'data/objects/car_10.html')"
   ]
  },
  {
   "cell_type": "code",
   "execution_count": 103,
   "id": "094638d2-89eb-4cea-89f0-878fa2529422",
   "metadata": {},
   "outputs": [
    {
     "data": {
      "text/plain": [
       "['3', 38450, '10', 384500, 25250, 82500, 37000]"
      ]
     },
     "execution_count": 103,
     "metadata": {},
     "output_type": "execute_result"
    }
   ],
   "source": [
    "parse_car_prices(f'data/objects/car_17.html')"
   ]
  },
  {
   "cell_type": "code",
   "execution_count": 55,
   "id": "4051da64-5077-49ff-9f3c-a7cfb5685548",
   "metadata": {},
   "outputs": [],
   "source": [
    "def download_prices(url: str):\n",
    "    prices = requests.get(url)\n",
    "    file_path = f'data/objects/car_prices.html' \n",
    "    with open(file_path, 'wb') as downloaded_file:\n",
    "        downloaded_file.write(prices.content)"
   ]
  },
  {
   "cell_type": "code",
   "execution_count": 159,
   "id": "1f99f27b-b2fc-4110-9d44-d00dd62f1a5e",
   "metadata": {},
   "outputs": [],
   "source": [
    "def parse_car_prices(file_path):\n",
    "    try:\n",
    "        with open(file_path, 'r', encoding='utf-8') as file:\n",
    "            content = file.read()\n",
    "        tree = lx.fromstring(content)\n",
    "        a_link = tree.xpath('//a[@class=\"typography-body1 flex items-center text-sm hover:bg-blue-100/30 p-2 rounded cursor-pointer transition duration-300 ease-in-out\"]')\n",
    "        download_prices(main_url + a_link[0].attrib['href'])\n",
    "        with open('data/objects/car_prices.html', 'r', encoding='utf-8') as file:\n",
    "            content = file.read()\n",
    "        tree = lx.fromstring(content)\n",
    "        try:\n",
    "            prices_span = tree.xpath('//span[@class=\"md:text-center font-medium md:font-light md:text-2xl\"]')\n",
    "            if len(prices_span) != 0:\n",
    "                prices_span = tree.xpath('//span[@class=\"md:text-center font-medium md:font-light md:text-2xl\"]')\n",
    "                prices = [span.text_content().strip().replace(',', '.') for span in prices_span]\n",
    "                for i in range(len(prices)):\n",
    "                    if prices[i][0] == '$':\n",
    "                        prices[i] = prices[i][1:]\n",
    "                        if prices[i][-1] == 'm':\n",
    "                            prices[i] = int(float(prices[i][:-1]) * 1000000)\n",
    "                        elif prices[i].find('.') != -1:\n",
    "                            prices[i] = int(float(prices[i]) * 1000)\n",
    "                    if prices[i] == '-' or prices[i] == '' or prices[i] == 'N/A':\n",
    "                        prices[i] = None\n",
    "                return prices \n",
    "            else:\n",
    "                prices_span = tree.xpath('//span[@class=\"text-2xl font-medium\"]')\n",
    "                name_span = tree.xpath('//span[@class=\"text-xs text-gray-500 font-medium\"]')\n",
    "                prices = [\"-\"] * 7\n",
    "                for i in range(len(name_span)):\n",
    "                    if name_span[i].text == \"FOR SALE\" or name_span[i].text == \"LISTINGS\":\n",
    "                        prices[0] = prices_span[i].text[19:-17]\n",
    "                    elif name_span[i].text == \"HIGHEST SALE\" or name_span[i].text == \"TOP SALE\":\n",
    "                        prices[5] = prices_span[i].text[19:-17].replace(',', '.')\n",
    "                    elif name_span[i].text == \"DOLLAR VOLUME\":\n",
    "                        prices[3] = prices_span[i].text[19:-17]\n",
    "                for i in range(len(prices)):\n",
    "                    if prices[i][0] == '$':\n",
    "                        prices[i] = prices[i][1:]\n",
    "                        if prices[i][-1] == 'm':\n",
    "                            prices[i] = int(float(prices[i][:-1]) * 1000000)\n",
    "                        elif prices[i].find('.') != -1:\n",
    "                            prices[i] = int(float(prices[i]) * 1000)\n",
    "                    if prices[i] == '-' or prices[i] == '' or prices[i] == 'N/A':\n",
    "                        prices[i] = None\n",
    "                return prices \n",
    "        except Exception as e:\n",
    "            return \"kek2\"\n",
    "    except Exception as e:\n",
    "        return \"kek\""
   ]
  },
  {
   "cell_type": "code",
   "execution_count": 161,
   "id": "e05feb7b-8ab0-4809-b050-7998143c503e",
   "metadata": {},
   "outputs": [
    {
     "ename": "IndentationError",
     "evalue": "expected an indented block after 'for' statement on line 9 (2332237543.py, line 12)",
     "output_type": "error",
     "traceback": [
      "\u001b[1;36m  Cell \u001b[1;32mIn[161], line 12\u001b[1;36m\u001b[0m\n\u001b[1;33m    print(pages_count)\u001b[0m\n\u001b[1;37m    ^\u001b[0m\n\u001b[1;31mIndentationError\u001b[0m\u001b[1;31m:\u001b[0m expected an indented block after 'for' statement on line 9\n"
     ]
    }
   ],
   "source": [
    "# Full parsing\n",
    "\n",
    "\n",
    "# Analysing number of pages\n",
    "download(url)\n",
    "root = explore(url)\n",
    "pages_count = int(root.xpath(\"//span[@class='font-medium']\")[-1].text)\n",
    "pages_count = pages_count // 24\n",
    "for i in range(pages_count):\n",
    "    \n",
    "\n",
    "print(pages_count)"
   ]
  },
  {
   "cell_type": "code",
   "execution_count": 33,
   "id": "3b01627f-3cd9-4db6-8797-2a9a7a92ad3a",
   "metadata": {},
   "outputs": [
    {
     "name": "stdout",
     "output_type": "stream",
     "text": [
      "163,929 mi\n"
     ]
    }
   ],
   "source": [
    "#Check checl\n",
    "\n",
    "root = explore(url)\n",
    "#pages_count = root.xpath(\"//div[@class='flex gap-2 items-center text-white']/div\")\n",
    "pages_count = root.xpath(\"//div[@class='flex gap-2 items-center text-black md:text-white']/div\")\n",
    "divs = pages_count[1].text\n",
    "\n",
    "\n",
    "\n"
   ]
  },
  {
   "cell_type": "code",
   "execution_count": 121,
   "id": "142fd379-a834-4105-8f0f-349d191f8535",
   "metadata": {},
   "outputs": [
    {
     "ename": "ValueError",
     "evalue": "29 columns passed, passed data had 22 columns",
     "output_type": "error",
     "traceback": [
      "\u001b[1;31m---------------------------------------------------------------------------\u001b[0m",
      "\u001b[1;31mAssertionError\u001b[0m                            Traceback (most recent call last)",
      "File \u001b[1;32mE:\\ProgramFiles\\Anaconda\\Lib\\site-packages\\pandas\\core\\internals\\construction.py:939\u001b[0m, in \u001b[0;36m_finalize_columns_and_data\u001b[1;34m(content, columns, dtype)\u001b[0m\n\u001b[0;32m    938\u001b[0m \u001b[38;5;28;01mtry\u001b[39;00m:\n\u001b[1;32m--> 939\u001b[0m     columns \u001b[38;5;241m=\u001b[39m _validate_or_indexify_columns(contents, columns)\n\u001b[0;32m    940\u001b[0m \u001b[38;5;28;01mexcept\u001b[39;00m \u001b[38;5;167;01mAssertionError\u001b[39;00m \u001b[38;5;28;01mas\u001b[39;00m err:\n\u001b[0;32m    941\u001b[0m     \u001b[38;5;66;03m# GH#26429 do not raise user-facing AssertionError\u001b[39;00m\n",
      "File \u001b[1;32mE:\\ProgramFiles\\Anaconda\\Lib\\site-packages\\pandas\\core\\internals\\construction.py:986\u001b[0m, in \u001b[0;36m_validate_or_indexify_columns\u001b[1;34m(content, columns)\u001b[0m\n\u001b[0;32m    984\u001b[0m \u001b[38;5;28;01mif\u001b[39;00m \u001b[38;5;129;01mnot\u001b[39;00m is_mi_list \u001b[38;5;129;01mand\u001b[39;00m \u001b[38;5;28mlen\u001b[39m(columns) \u001b[38;5;241m!=\u001b[39m \u001b[38;5;28mlen\u001b[39m(content):  \u001b[38;5;66;03m# pragma: no cover\u001b[39;00m\n\u001b[0;32m    985\u001b[0m     \u001b[38;5;66;03m# caller's responsibility to check for this...\u001b[39;00m\n\u001b[1;32m--> 986\u001b[0m     \u001b[38;5;28;01mraise\u001b[39;00m \u001b[38;5;167;01mAssertionError\u001b[39;00m(\n\u001b[0;32m    987\u001b[0m         \u001b[38;5;124mf\u001b[39m\u001b[38;5;124m\"\u001b[39m\u001b[38;5;132;01m{\u001b[39;00m\u001b[38;5;28mlen\u001b[39m(columns)\u001b[38;5;132;01m}\u001b[39;00m\u001b[38;5;124m columns passed, passed data had \u001b[39m\u001b[38;5;124m\"\u001b[39m\n\u001b[0;32m    988\u001b[0m         \u001b[38;5;124mf\u001b[39m\u001b[38;5;124m\"\u001b[39m\u001b[38;5;132;01m{\u001b[39;00m\u001b[38;5;28mlen\u001b[39m(content)\u001b[38;5;132;01m}\u001b[39;00m\u001b[38;5;124m columns\u001b[39m\u001b[38;5;124m\"\u001b[39m\n\u001b[0;32m    989\u001b[0m     )\n\u001b[0;32m    990\u001b[0m \u001b[38;5;28;01mif\u001b[39;00m is_mi_list:\n\u001b[0;32m    991\u001b[0m     \u001b[38;5;66;03m# check if nested list column, length of each sub-list should be equal\u001b[39;00m\n",
      "\u001b[1;31mAssertionError\u001b[0m: 29 columns passed, passed data had 22 columns",
      "\nThe above exception was the direct cause of the following exception:\n",
      "\u001b[1;31mValueError\u001b[0m                                Traceback (most recent call last)",
      "Cell \u001b[1;32mIn[121], line 8\u001b[0m\n\u001b[0;32m      6\u001b[0m url_4 \u001b[38;5;241m=\u001b[39m \u001b[38;5;124m'\u001b[39m\u001b[38;5;124mhttps://www.classic.com/veh/2006-subaru-impreza-wrx-sti-6zz60000gdb037755-pPEo7R4/\u001b[39m\u001b[38;5;124m'\u001b[39m\n\u001b[0;32m      7\u001b[0m download(url_1)\n\u001b[1;32m----> 8\u001b[0m df \u001b[38;5;241m=\u001b[39m pd\u001b[38;5;241m.\u001b[39mconcat([df, pd\u001b[38;5;241m.\u001b[39mDataFrame([parse_car_specs(\u001b[38;5;124mf\u001b[39m\u001b[38;5;124m'\u001b[39m\u001b[38;5;124mdata/pages/page.html\u001b[39m\u001b[38;5;124m'\u001b[39m) \u001b[38;5;241m+\u001b[39m parse_car_prices(\u001b[38;5;124mf\u001b[39m\u001b[38;5;124m'\u001b[39m\u001b[38;5;124mdata/pages/page.html\u001b[39m\u001b[38;5;124m'\u001b[39m)], columns\u001b[38;5;241m=\u001b[39mdf\u001b[38;5;241m.\u001b[39mcolumns)], ignore_index\u001b[38;5;241m=\u001b[39m\u001b[38;5;28;01mTrue\u001b[39;00m)\n\u001b[0;32m      9\u001b[0m \u001b[38;5;28mprint\u001b[39m(df)\n",
      "File \u001b[1;32mE:\\ProgramFiles\\Anaconda\\Lib\\site-packages\\pandas\\core\\frame.py:851\u001b[0m, in \u001b[0;36mDataFrame.__init__\u001b[1;34m(self, data, index, columns, dtype, copy)\u001b[0m\n\u001b[0;32m    849\u001b[0m     \u001b[38;5;28;01mif\u001b[39;00m columns \u001b[38;5;129;01mis\u001b[39;00m \u001b[38;5;129;01mnot\u001b[39;00m \u001b[38;5;28;01mNone\u001b[39;00m:\n\u001b[0;32m    850\u001b[0m         columns \u001b[38;5;241m=\u001b[39m ensure_index(columns)\n\u001b[1;32m--> 851\u001b[0m     arrays, columns, index \u001b[38;5;241m=\u001b[39m nested_data_to_arrays(\n\u001b[0;32m    852\u001b[0m         \u001b[38;5;66;03m# error: Argument 3 to \"nested_data_to_arrays\" has incompatible\u001b[39;00m\n\u001b[0;32m    853\u001b[0m         \u001b[38;5;66;03m# type \"Optional[Collection[Any]]\"; expected \"Optional[Index]\"\u001b[39;00m\n\u001b[0;32m    854\u001b[0m         data,\n\u001b[0;32m    855\u001b[0m         columns,\n\u001b[0;32m    856\u001b[0m         index,  \u001b[38;5;66;03m# type: ignore[arg-type]\u001b[39;00m\n\u001b[0;32m    857\u001b[0m         dtype,\n\u001b[0;32m    858\u001b[0m     )\n\u001b[0;32m    859\u001b[0m     mgr \u001b[38;5;241m=\u001b[39m arrays_to_mgr(\n\u001b[0;32m    860\u001b[0m         arrays,\n\u001b[0;32m    861\u001b[0m         columns,\n\u001b[1;32m   (...)\u001b[0m\n\u001b[0;32m    864\u001b[0m         typ\u001b[38;5;241m=\u001b[39mmanager,\n\u001b[0;32m    865\u001b[0m     )\n\u001b[0;32m    866\u001b[0m \u001b[38;5;28;01melse\u001b[39;00m:\n",
      "File \u001b[1;32mE:\\ProgramFiles\\Anaconda\\Lib\\site-packages\\pandas\\core\\internals\\construction.py:520\u001b[0m, in \u001b[0;36mnested_data_to_arrays\u001b[1;34m(data, columns, index, dtype)\u001b[0m\n\u001b[0;32m    517\u001b[0m \u001b[38;5;28;01mif\u001b[39;00m is_named_tuple(data[\u001b[38;5;241m0\u001b[39m]) \u001b[38;5;129;01mand\u001b[39;00m columns \u001b[38;5;129;01mis\u001b[39;00m \u001b[38;5;28;01mNone\u001b[39;00m:\n\u001b[0;32m    518\u001b[0m     columns \u001b[38;5;241m=\u001b[39m ensure_index(data[\u001b[38;5;241m0\u001b[39m]\u001b[38;5;241m.\u001b[39m_fields)\n\u001b[1;32m--> 520\u001b[0m arrays, columns \u001b[38;5;241m=\u001b[39m to_arrays(data, columns, dtype\u001b[38;5;241m=\u001b[39mdtype)\n\u001b[0;32m    521\u001b[0m columns \u001b[38;5;241m=\u001b[39m ensure_index(columns)\n\u001b[0;32m    523\u001b[0m \u001b[38;5;28;01mif\u001b[39;00m index \u001b[38;5;129;01mis\u001b[39;00m \u001b[38;5;28;01mNone\u001b[39;00m:\n",
      "File \u001b[1;32mE:\\ProgramFiles\\Anaconda\\Lib\\site-packages\\pandas\\core\\internals\\construction.py:845\u001b[0m, in \u001b[0;36mto_arrays\u001b[1;34m(data, columns, dtype)\u001b[0m\n\u001b[0;32m    842\u001b[0m     data \u001b[38;5;241m=\u001b[39m [\u001b[38;5;28mtuple\u001b[39m(x) \u001b[38;5;28;01mfor\u001b[39;00m x \u001b[38;5;129;01min\u001b[39;00m data]\n\u001b[0;32m    843\u001b[0m     arr \u001b[38;5;241m=\u001b[39m _list_to_arrays(data)\n\u001b[1;32m--> 845\u001b[0m content, columns \u001b[38;5;241m=\u001b[39m _finalize_columns_and_data(arr, columns, dtype)\n\u001b[0;32m    846\u001b[0m \u001b[38;5;28;01mreturn\u001b[39;00m content, columns\n",
      "File \u001b[1;32mE:\\ProgramFiles\\Anaconda\\Lib\\site-packages\\pandas\\core\\internals\\construction.py:942\u001b[0m, in \u001b[0;36m_finalize_columns_and_data\u001b[1;34m(content, columns, dtype)\u001b[0m\n\u001b[0;32m    939\u001b[0m     columns \u001b[38;5;241m=\u001b[39m _validate_or_indexify_columns(contents, columns)\n\u001b[0;32m    940\u001b[0m \u001b[38;5;28;01mexcept\u001b[39;00m \u001b[38;5;167;01mAssertionError\u001b[39;00m \u001b[38;5;28;01mas\u001b[39;00m err:\n\u001b[0;32m    941\u001b[0m     \u001b[38;5;66;03m# GH#26429 do not raise user-facing AssertionError\u001b[39;00m\n\u001b[1;32m--> 942\u001b[0m     \u001b[38;5;28;01mraise\u001b[39;00m \u001b[38;5;167;01mValueError\u001b[39;00m(err) \u001b[38;5;28;01mfrom\u001b[39;00m \u001b[38;5;21;01merr\u001b[39;00m\n\u001b[0;32m    944\u001b[0m \u001b[38;5;28;01mif\u001b[39;00m \u001b[38;5;28mlen\u001b[39m(contents) \u001b[38;5;129;01mand\u001b[39;00m contents[\u001b[38;5;241m0\u001b[39m]\u001b[38;5;241m.\u001b[39mdtype \u001b[38;5;241m==\u001b[39m np\u001b[38;5;241m.\u001b[39mobject_:\n\u001b[0;32m    945\u001b[0m     contents \u001b[38;5;241m=\u001b[39m convert_object_array(contents, dtype\u001b[38;5;241m=\u001b[39mdtype)\n",
      "\u001b[1;31mValueError\u001b[0m: 29 columns passed, passed data had 22 columns"
     ]
    }
   ],
   "source": [
    "#Check check specs\n",
    "url = 'https://www.classic.com/veh/1914-buick-b-24-11468-WN2MGAW/'\n",
    "url_1 = 'https://www.classic.com/veh/1928-indian-four-153-4AwvxbW/'\n",
    "url_2 = 'https://www.classic.com/veh/1984-bmw-733i-wbaff840xe9284528-Wvkg85p/'\n",
    "url_3 = 'https://www.classic.com/veh/1984-toyota-land-cruiser-jt3fj60g4e1119893-4AjRozn/'\n",
    "url_4 = 'https://www.classic.com/veh/2006-subaru-impreza-wrx-sti-6zz60000gdb037755-pPEo7R4/'\n",
    "\n",
    "df = pd.concat([df, pd.DataFrame([parse_car_specs(f'data/pages/page.html') + parse_car_prices(f'data/pages/page.html')], columns=df.columns)], ignore_index=True)\n",
    "print(df)"
   ]
  },
  {
   "cell_type": "code",
   "execution_count": 106,
   "id": "97f54dbe-9665-4b2d-8964-9fd463b15710",
   "metadata": {},
   "outputs": [
    {
     "data": {
      "text/plain": [
       "['5', 26214, '210', 5500000, 6207, 77000, 23500]"
      ]
     },
     "execution_count": 106,
     "metadata": {},
     "output_type": "execute_result"
    }
   ],
   "source": [
    "#Check check prices\n",
    "url = 'https://www.classic.com/veh/1960-leyland-motors-fv4201-chieftain-tank-323-pEKb2zn'\n",
    "url_1 = 'https://www.classic.com/veh/1928-indian-four-153-4AwvxbW/'\n",
    "url_2 = 'https://www.classic.com/veh/1984-bmw-733i-wbaff840xe9284528-Wvkg85p/'\n",
    "url_3 = 'https://www.classic.com/veh/1984-toyota-land-cruiser-jt3fj60g4e1119893-4AjRozn/'\n",
    "url_4 = 'https://www.classic.com/veh/2006-subaru-impreza-wrx-sti-6zz60000gdb037755-pPEo7R4/'\n",
    "download(url_4)\n",
    "parse_car_prices(f'data/pages/page.html')"
   ]
  },
  {
   "cell_type": "code",
   "execution_count": 141,
   "id": "4e45eedd-90eb-4ced-acab-15f49746b538",
   "metadata": {},
   "outputs": [
    {
     "data": {
      "text/plain": [
       "['1928 Indian Four',\n",
       " 'For Sale',\n",
       " 'Dallas, Texas, USA',\n",
       " 'Sep 29, 2024',\n",
       " '1928',\n",
       " 'Indian Motorcycle',\n",
       " 'All Models',\n",
       " None,\n",
       " None,\n",
       " None,\n",
       " None,\n",
       " 'Manual',\n",
       " 'Rear Wheel Drive (RWD)',\n",
       " 'Original & Highly Original',\n",
       " 'TMU',\n",
       " '153',\n",
       " 'Motorcycle',\n",
       " None,\n",
       " None,\n",
       " 'Center Drive',\n",
       " 'Brown',\n",
       " 'Black']"
      ]
     },
     "execution_count": 141,
     "metadata": {},
     "output_type": "execute_result"
    }
   ],
   "source": [
    "url_1 = 'https://www.classic.com/veh/1928-indian-four-153-4AwvxbW/'\n",
    "download(url_1)\n",
    "parse_car_specs(f'data/pages/page.html') + parse_car_prices(f'data/pages/page.html')"
   ]
  },
  {
   "cell_type": "code",
   "execution_count": 160,
   "id": "cddaf2b1-eb1e-48f9-bb31-629db699d1ac",
   "metadata": {},
   "outputs": [
    {
     "data": {
      "text/plain": [
       "['492', None, None, 11600000, None, 285000, None]"
      ]
     },
     "execution_count": 160,
     "metadata": {},
     "output_type": "execute_result"
    }
   ],
   "source": [
    "parse_car_prices(f'data/pages/page.html')"
   ]
  },
  {
   "cell_type": "code",
   "execution_count": 139,
   "id": "f0806ffb-8a24-4759-8eac-5a83202d4acd",
   "metadata": {},
   "outputs": [
    {
     "data": {
      "text/plain": [
       "['-', '-', '-', '-', '-', '-', '-']"
      ]
     },
     "execution_count": 139,
     "metadata": {},
     "output_type": "execute_result"
    }
   ],
   "source": [
    "[\"-\" ] * 7"
   ]
  },
  {
   "cell_type": "code",
   "execution_count": null,
   "id": "4f631ce4-29dd-4916-b47e-82f99cafbfdd",
   "metadata": {},
   "outputs": [],
   "source": []
  }
 ],
 "metadata": {
  "kernelspec": {
   "display_name": "Python 3 (ipykernel)",
   "language": "python",
   "name": "python3"
  },
  "language_info": {
   "codemirror_mode": {
    "name": "ipython",
    "version": 3
   },
   "file_extension": ".py",
   "mimetype": "text/x-python",
   "name": "python",
   "nbconvert_exporter": "python",
   "pygments_lexer": "ipython3",
   "version": "3.12.4"
  }
 },
 "nbformat": 4,
 "nbformat_minor": 5
}
